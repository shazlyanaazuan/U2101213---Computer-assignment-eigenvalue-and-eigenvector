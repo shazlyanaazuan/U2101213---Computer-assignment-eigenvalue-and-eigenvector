{
 "cells": [
  {
   "cell_type": "markdown",
   "id": "ddb3560c-116e-4856-ab7a-b06821ead413",
   "metadata": {},
   "source": [
    "## One-dimentional Scrodinger equation\n",
    "\n",
    "Numerical methods are used to solve the eigenvalue problem. The equation of one-dimensional Scrodinger is given by:\n",
    "$$\\frac{-ℏ^2}{2m}\\frac{d^2ψ(x)}{dx^2}+V(x)ψ(x) = Eψ(x)$$\n",
    " \n",
    "Where:\n",
    "\n",
    "$ψ(x)$ = Wavefunction of the particle\n",
    "\n",
    "$E$ = Energy value to be determined\n",
    "\n",
    "$V(x)$ = Potential energy function\n",
    "\n",
    "$m$ = Mass of the particle\n",
    "\n",
    "$ℏ$ = Planck's constant\n",
    "\n",
    "However in the calculation we use $ℏ=m=1$\n",
    "\n",
    "To solve this problem numerically, we need to:\n",
    "1. Determine the energy $E_n$ according to the particular quantum number.\n",
    "2. Compute the corresponding wavefunction $ψ_n(x)$."
   ]
  },
  {
   "cell_type": "code",
   "execution_count": 2,
   "id": "468d5acd-74aa-4d1e-9c63-cb02d7bafa98",
   "metadata": {},
   "outputs": [],
   "source": [
    "import numpy as np\n",
    "import matplotlib.pyplot as plt"
   ]
  },
  {
   "cell_type": "markdown",
   "id": "4912f871-9440-41b1-a258-91aa7f5c4367",
   "metadata": {},
   "source": [
    "Define all the parameters involved."
   ]
  },
  {
   "cell_type": "code",
   "execution_count": 5,
   "id": "691ddab7-a3cc-43b3-bf0a-77cfba05e0c8",
   "metadata": {},
   "outputs": [],
   "source": [
    "N = 1000           # Number of points\n",
    "max_iter = 10      # Maximum iterations\n",
    "xi = -10           # Left boundary of x domain\n",
    "xf = 10            # Right boundary of x domain\n",
    "hbar = 1\n",
    "alpha = 1\n",
    "lambd = 4\n",
    "m = 1\n",
    "\n",
    "h = (xf - xi) / N  # Step size"
   ]
  },
  {
   "cell_type": "code",
   "execution_count": 7,
   "id": "0b210d85-d31d-427d-88b9-c63980ed812f",
   "metadata": {},
   "outputs": [],
   "source": [
    "# Arrays for computations\n",
    "ul = np.zeros(N + 1)   # Left wavefunction\n",
    "ur = np.zeros(N + 1)   # Right wavefunction\n",
    "ql = np.zeros(N + 1)   # Potential dependent q(x) for left part\n",
    "qr = np.zeros(N + 1)   # Potential dependent q(x) for right part\n",
    "s = np.zeros(N + 1)\n",
    "u = np.zeros(N + 1)    # Combined wavefunction"
   ]
  },
  {
   "cell_type": "markdown",
   "id": "f8ca647f-3526-4eeb-a2b4-ba8b2c282c54",
   "metadata": {},
   "source": [
    "Initial guess for the energy $E_n$ is calculated as:\n",
    "$$E_n=\\frac{ℏ^2 α^2}{2m}[\\frac{λ(λ−1)}{2}-(λ-1-n)^2]$$\n",
    "\n",
    "Where n is the quantum number, α = 1 and λ = 4."
   ]
  },
  {
   "cell_type": "code",
   "execution_count": 1,
   "id": "9ff37fbe-dca7-4157-bdf6-a941f2ef40ea",
   "metadata": {},
   "outputs": [],
   "source": [
    "def main():\n",
    "    tol = 1e-6  \n",
    "    n = 2       # Quantum number n=2\n",
    "    \n",
    "    # Exact eigenvalue formula given in the assignment\n",
    "    e = ((hbar**2) * (alpha**2) / (2 * m)) * (((lambd * (lambd - 1)) / 2) - ((lambd - 1 - n) ** 2))\n",
    "    print(\"Initial energy guess:\", e)\n",
    "    \n",
    "    # Energy step used in Secant method\n",
    "    de = 0.1    \n",
    "\n",
    "    # Find the eigenvalue via secant search\n",
    "    e = secant(max_iter, tol, e, de)\n",
    "\n",
    "    # Compute x and u values\n",
    "    x_values = []\n",
    "    u_values = []\n",
    "    x = xi\n",
    "    \n",
    "    for i in range(0, N + 1, m):\n",
    "        x_values.append(x)\n",
    "        u_values.append(u[i])\n",
    "        x += h\n",
    "\n",
    "    # Plot both the potential, wavefunction and energy\n",
    "    plot_potential_wavefunction_energy(x_values, u_values, e)\n",
    "\n",
    "    # Print the eigenvalue\n",
    "    print(\"The eigenvalue:\", e)"
   ]
  },
  {
   "cell_type": "markdown",
   "id": "40f09f1d-bb59-4ac7-8d97-89d579022d69",
   "metadata": {},
   "source": [
    "The secant method is an iterative technique for finding the root of a non-linear equation $f(x)=0$. In this case,\n",
    "\n",
    "1. $f(e)$ represents the mismatch in the wavefunction boundary conditions at the turning point.\n",
    "2. The secant method finds the energy eigenvalue such that $f(e)=0$ ensuring the wavefunction is continuous abd satisfies the boundary conditions.\n",
    "\n",
    "The secant method formula for this case is given by:\n",
    "$$ e_{i+1} =e_i - f(e)\\frac{Δe}{f(e+Δe)-f(e)} $$\n"
   ]
  },
  {
   "cell_type": "code",
   "execution_count": 13,
   "id": "fc387f1c-46df-42ff-8163-62f1f9f82a00",
   "metadata": {},
   "outputs": [],
   "source": [
    "# Secant method\n",
    "def secant(max_iter, tol, e, de):\n",
    "    f0 = f(e)         # f(e) represents the mismatch in the boundary conditions of Schrodinger function at the turning point\n",
    "    f1 = f(e + de)    # To compute the wavefunction mismatch for the higher energy\n",
    "    \n",
    "    while abs(f1) > tol:   # Continue until the function value is within the tolerance \n",
    "        E = e              # Save the current energy value to recalculate the energy step\n",
    "        e = e - f1 * de / (f1 - f0)   # Secant method formula\n",
    "        f0 = f1\n",
    "        f1 = f(e)\n",
    "        de = e - E\n",
    "    return e"
   ]
  },
  {
   "cell_type": "markdown",
   "id": "606ca4a5-3c66-4e17-a29c-2b06fdf23f88",
   "metadata": {},
   "source": [
    "This part is used to calculate the wavefunction mismatch for a given energy.\n",
    "\n",
    "The function f(energy):\n",
    "1. Compute the mismatch in the wavefunction derivatives at the turning point $x_r$ for a given energy.\n",
    "2. This mismatch is evaluated using theree-point formula for derivatives which approximates the first derivative at the turning point.\n",
    "\n",
    "The result f(energy) is used in the secant method to iteratively improve the energy eigenvalues.\n",
    "\n",
    "The three-point formula is given by:\n",
    "$$f(E) = \\frac{[ψ_l(x_r+h)-ψ_l(x_r-h)]-[ψ_r(x_r+h)-ψ_r(x_r-h)]}{2hψ(x_r)}$$"
   ]
  },
  {
   "cell_type": "code",
   "execution_count": 16,
   "id": "194894fa-c6b2-4b33-9457-b02f99f7c180",
   "metadata": {},
   "outputs": [],
   "source": [
    "# Calculate the wavefunction mismatch for a given energy\n",
    "def f(energy):\n",
    "    wave(energy)  \n",
    "    f0 = ur[nr - 1] + ul[nl - 1] - ur[nr - 3] - ul[nl - 3]  # Comes from three-point formula\n",
    "    return f0 / (2 * h * ur[nr - 2])                        # Comes from three-point formula"
   ]
  },
  {
   "cell_type": "markdown",
   "id": "fac72420-b3bf-4db7-a8b6-557053b56a91",
   "metadata": {},
   "source": [
    "In order to find the turning point $x_r$, where $E=V(x)$, we find that when q(x) changes in its sign. q(x) is given by:\n",
    "$$q(x) = \\frac{2m(E-V(x))}{ℏ^2}$$\n",
    "\n",
    "Then Numerov algorithm is used to integrate the Scrodinger equation from:\n",
    "1. The left boundary xi to $x_r+h$.\n",
    "2. The right boundary xf to $x_r-h$.\n",
    "\n",
    "At the turning point $x_r$, the continuity are:\n",
    "$$ψ_l(x_r) = ψ_r(x_r)$$\n",
    "$$ψ'_l(x_r) = ψ'_r(x_r)$$\n",
    "\n",
    "If we combine these two conditions, we get:\n",
    "$$\\frac{ψ'_l(x_r)}{ψ_l(x_r)} = \\frac{ψ'_r(x_r)}{ψ_r(x_r)}$$\n",
    "\n",
    "When we get the ratio:\n",
    "$$ratio = \\frac{ψ_r(x_r)}{ψ_l(x_r)}$$\n",
    "Multiply the ratio with $ψ_l(x_r)$ values will give $ψ_l(x_r) = ψ_r(x_r)$.\n",
    "\n",
    "Then we have to ensure that the wavefunction $ψ(x)$ satisfies the normalization condition:\n",
    "$$∫|ψ(x)|^2 dx = 1$$\n",
    "\n",
    "We use the Simpson's rule to integrate $|ψ(x)|^2$ to integrate. Then we divide $ψ(x)$ by the square root of the integral to normalize it.\n"
   ]
  },
  {
   "cell_type": "code",
   "execution_count": 19,
   "id": "96a8fcdc-1583-4d69-b225-686484d5267c",
   "metadata": {},
   "outputs": [],
   "source": [
    "# nl = number of points for the left integration\n",
    "# nr = number of points for the right integration\n",
    "def wave(energy):\n",
    "    global ul, ur, u, nr, nl\n",
    "\n",
    "    # Set up the q(x) function\n",
    "    for i in range(N + 1):\n",
    "        x = xi + (i * h)\n",
    "        ql[i] = 2 * (energy - v(x))  # q(x) = 2m(E−V(x))/ℏ**2\n",
    "        qr[N - i] = ql[i]\n",
    "\n",
    "    # Find the matching point at the right turning point\n",
    "    im = 0\n",
    "    for i in range(N):\n",
    "        if (ql[i] * ql[i + 1] < 0) and ql[i] > 0:\n",
    "            im = i\n",
    "\n",
    "    # Carry out Numerov integrations\n",
    "    nl = im + 2\n",
    "    nr = N - im + 2\n",
    "    ul = numerov(nl, h, 0, 0.01, ql, s)  # Integrate left wavefunction from xi to turning point\n",
    "    ur = numerov(nr, h, 0, 0.01, qr, s)  # Integrate right wavefunction from xf to turning point\n",
    "\n",
    "    # Left wavefunction\n",
    "    ratio = ur[nr - 2] / ul[im]\n",
    "    for i in range(im + 1):\n",
    "        u[i] = ratio * ul[i]\n",
    "\n",
    "    # Combine the scaled wavefunction with right wavefunction to form the complete wavefunction\n",
    "    for i in range(nr - 1):\n",
    "        u[i + im] = ur[nr - i - 2]\n",
    "\n",
    "    # Normalize the wavefunction\n",
    "    y = u ** 2\n",
    "    sum_y = simpson(y, h)\n",
    "    norm_factor = np.sqrt(sum_y)\n",
    "    u /= norm_factor"
   ]
  },
  {
   "cell_type": "markdown",
   "id": "925bf56e-73cb-4a94-b964-e65bcf64b9f5",
   "metadata": {},
   "source": [
    "Numerov method solves second order differential equations like Scrodinger equation. \n",
    "\n",
    "Scrodinger equation can be written as:\n",
    "$$\\frac{d^2ψ(x)}{dx^2}+q(x) = s(x)$$\n",
    "\n",
    "Where $$q(x) = \\frac{2m}{ℏ^2}(E-V(x))$$\n",
    "\n",
    "The Numerov algorithm discretizes the differential equation as:\n",
    "$$ψ_{i+1}=\\frac{2(1-5gq_i)ψ_i-(1+gq_{i-1})ψ_{i-1}+g(s_{i+1}+10s_i+s_{i-1})}{1+gq_{i+1}}$$\n",
    "\n",
    "The scaling factor in the Numerov method is given by:\n",
    "$$g=\\frac{h^2}{12}$$"
   ]
  },
  {
   "cell_type": "code",
   "execution_count": 22,
   "id": "17883d8e-f6cc-42af-b7ee-1aa34c19a00c",
   "metadata": {},
   "outputs": [],
   "source": [
    "def numerov(m, h, u0, u1, q, s):\n",
    "    u = np.zeros(m)\n",
    "    u[0] = u0\n",
    "    u[1] = u1\n",
    "    \n",
    "    # Scaling factor\n",
    "    g = h**2 / 12\n",
    "    \n",
    "    for i in range(1, m - 1):\n",
    "        c0 = 1 + g * q[i - 1]\n",
    "        c1 = 2 - 10 * g * q[i]\n",
    "        c2 = 1 + g * q[i + 1]\n",
    "        d = g * (s[i + 1] + s[i - 1] + 10 * s[i])\n",
    "        \n",
    "        # Numerov algorithm\n",
    "        u[i + 1] = (c1 * u[i] - c0 * u[i - 1] + d) / c2\n",
    "    return u"
   ]
  },
  {
   "cell_type": "markdown",
   "id": "32405aa9-0b31-43e5-b4ac-7090f579dd9b",
   "metadata": {},
   "source": [
    "In Schrodinger equation, Simpson's rule is used to normalize the wavefuntion $ψ(x)$. This ensure that the total probability of finding a particle in all space is equal to 1.\n",
    "\n",
    "The wavefunction $ψ(x)$ have to satisfies the normalization condition:\n",
    "$$∫|ψ(x)|^2 dx = 1$$\n",
    "\n",
    "1. The wavefunction is computed numerically over [xi, xf] as $ψ(x)→0$\n",
    "2. The integral is approximated using Simpson's rule over discrete points.\n",
    "\n",
    "Simpson's rule formula is given by:\n",
    "$$\\int_{xi}^{xf} |ψ(x)|^2 dx=\\frac{h}{3}[y_0+4(y_1+y_3+...)+2(y_2+y_4+...)+y_i]$$\n",
    "\n",
    "Where $y_i=|ψ(x_i)|^2$\n",
    "\n",
    "After calculating the integral, the wavefunction is normalized:\n",
    "$$ψ(x)→\\frac{ψ(x)}{\\sqrt{∫|ψ(x)|^2 dx}}$$\n"
   ]
  },
  {
   "cell_type": "code",
   "execution_count": 25,
   "id": "6ae68e53-cf83-46c8-8dcd-3eba15c5f8e1",
   "metadata": {},
   "outputs": [],
   "source": [
    "# Simpson's function\n",
    "def simpson(y, h):\n",
    "    n = len(y)\n",
    "    sum_y = y[0] + y[-1]\n",
    "    \n",
    "    # Odd indexed term\n",
    "    sum_y += 4 * np.sum(y[1:n - 1:2])\n",
    "    \n",
    "    # Even indexed term\n",
    "    sum_y += 2 * np.sum(y[2:n - 1:2])\n",
    "    \n",
    "    return sum_y * h / 3"
   ]
  },
  {
   "cell_type": "markdown",
   "id": "8fb04049-68f6-424c-bd08-7740e02290b1",
   "metadata": {},
   "source": [
    "The potential function V(x) is given by:\n",
    "$$V(x)=\\frac{ℏ^2}{2m}α^2λ(λ−1)[\\frac{1}{2}-\\frac{1}{cosh^2(αx)}]$$"
   ]
  },
  {
   "cell_type": "code",
   "execution_count": 28,
   "id": "b2d6db70-fba9-4c5d-8736-0ba031861ce0",
   "metadata": {},
   "outputs": [],
   "source": [
    "# Potential function\n",
    "def v(x):\n",
    "    return ((alpha**2 * lambd * (lambd - 1) * (0.5 - 1 / np.cosh(alpha * x) ** 2)) / 2 * m)"
   ]
  },
  {
   "cell_type": "code",
   "execution_count": 30,
   "id": "91f46309-66c4-4ed3-ac41-affdc432ddc4",
   "metadata": {},
   "outputs": [
    {
     "name": "stdout",
     "output_type": "stream",
     "text": [
      "Initial energy guess: 2.5\n"
     ]
    },
    {
     "data": {
      "image/png": "[encoded data removed]",
      "text/plain": [
       "<Figure size 1000x600 with 1 Axes>"
      ]
     },
     "metadata": {},
     "output_type": "display_data"
    },
    {
     "name": "stdout",
     "output_type": "stream",
     "text": [
      "The eigenvalue: 2.4999999827589643\n"
     ]
    }
   ],
   "source": [
    "def plot_potential_wavefunction_energy(x_values, u_values, e):\n",
    "    # Compute potential values\n",
    "    v_values = [v(x) for x in x_values]\n",
    "\n",
    "    # Scale the wavefunction for visualization\n",
    "    u_scaled = [3 * u for u in u_values]  # Scaling factor (3) for better visualization\n",
    "\n",
    "    # Plot both potential and wavefunction\n",
    "    plt.figure(figsize=(10, 6))\n",
    "    plt.plot(x_values, v_values, label=\"Potential V(x)\", color=\"red\")\n",
    "    plt.plot(x_values, u_scaled, label=\"Wavefunction (eigenvector)\", color=\"blue\")\n",
    "    plt.axhline(e, color=\"green\", linestyle=\"--\", label=f\"Energy (eigenvalue)\")\n",
    "    plt.axhline(0, color=\"black\", lw=0.5, linestyle=\"--\")\n",
    "    plt.xlabel(\"x\", fontsize=12)\n",
    "    plt.xlim(-3,3)\n",
    "    plt.ylabel(\"V(x), wavefunction and energy\", fontsize=12)\n",
    "    plt.grid(True)\n",
    "    plt.legend()\n",
    "    plt.show()\n",
    "\n",
    "\n",
    "if __name__ == \"__main__\":\n",
    "    main()"
   ]
  },
  {
   "cell_type": "code",
   "execution_count": null,
   "id": "9ea7221c-48ea-4a6a-9d01-0a844c6209c6",
   "metadata": {},
   "outputs": [],
   "source": []
  }
 ],
 "metadata": {
  "kernelspec": {
   "display_name": "Python 3 (ipykernel)",
   "language": "python",
   "name": "python3"
  },
  "language_info": {
   "codemirror_mode": {
    "name": "ipython",
    "version": 3
   },
   "file_extension": ".py",
   "mimetype": "text/x-python",
   "name": "python",
   "nbconvert_exporter": "python",
   "pygments_lexer": "ipython3",
   "version": "3.12.7"
  }
 },
 "nbformat": 4,
 "nbformat_minor": 5
}
